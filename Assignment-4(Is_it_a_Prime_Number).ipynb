{
 "cells": [
  {
   "cell_type": "code",
   "execution_count": 15,
   "metadata": {
    "tags": []
   },
   "outputs": [
    {
     "output_type": "stream",
     "name": "stdout",
     "text": "32516798748521654674987777 is not a prime number.\n"
    }
   ],
   "source": [
    "num = input(\"Please enter a positive number without any space or special character : \").strip()\n",
    "while num.isdigit() == False:\n",
    "    num = input(\"It is not a valid number! Please enter a positive number without any space or special character : \").strip()\n",
    "num = int(num)\n",
    "if num < 2:\n",
    "    print(f\"{num} is not a prime number.\")\n",
    "elif num == 2:\n",
    "    print(f\"{num} is a prime number.\")\n",
    "else:\n",
    "    i = 2\n",
    "    while i < num:\n",
    "        if num % i != 0:\n",
    "            i += 1\n",
    "            x = \"is a prime number.\"\n",
    "        else:\n",
    "            x = \"is not a prime number.\"\n",
    "            break\n",
    "    print(f\"{num} {x}\")"
   ]
  },
  {
   "cell_type": "code",
   "execution_count": null,
   "metadata": {},
   "outputs": [],
   "source": []
  }
 ],
 "metadata": {
  "language_info": {
   "codemirror_mode": {
    "name": "ipython",
    "version": 3
   },
   "file_extension": ".py",
   "mimetype": "text/x-python",
   "name": "python",
   "nbconvert_exporter": "python",
   "pygments_lexer": "ipython3",
   "version": 3
  },
  "orig_nbformat": 2,
  "kernelspec": {
   "name": "python_defaultSpec_1594373050103",
   "display_name": "Python 3.7.6 64-bit ('base': conda)"
  }
 },
 "nbformat": 4,
 "nbformat_minor": 2
}