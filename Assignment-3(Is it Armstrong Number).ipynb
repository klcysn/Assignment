{
 "cells": [
  {
   "cell_type": "code",
   "execution_count": 17,
   "metadata": {},
   "outputs": [
    {
     "name": "stdout",
     "output_type": "stream",
     "text": [
      "Please enter a number (Don't use non-numeric, float, or negative values!) :  121\n",
      "It is an invalid entry. Don't use non-numeric, float, or negative values! : 121\n",
      "121 is not an Armstrong number\n"
     ]
    }
   ],
   "source": [
    "arm_num = 0\n",
    "num = input(\"Please enter a number (Don't use non-numeric, float, or negative values!) : \")\n",
    "while num.isdigit() == False:\n",
    "    num = input(\"It is an invalid entry. Don't use non-numeric, float, or negative values! : \")\n",
    "num_str = list(num)\n",
    "num = int(num)\n",
    "for i in range(len(num_str)):\n",
    "    arm_num += int(num_str[i]) ** len(num_str)\n",
    "if arm_num == num:\n",
    "    print(f\"{num} is an Armstrong number\")\n",
    "else:\n",
    "    print(f\"{num} is not an Armstrong number\")"
   ]
  },
  {
   "cell_type": "code",
   "execution_count": null,
   "metadata": {},
   "outputs": [],
   "source": []
  },
  {
   "cell_type": "code",
   "execution_count": null,
   "metadata": {},
   "outputs": [],
   "source": []
  }
 ],
 "metadata": {
  "kernelspec": {
   "display_name": "Python 3",
   "language": "python",
   "name": "python3"
  },
  "language_info": {
   "codemirror_mode": {
    "name": "ipython",
    "version": 3
   },
   "file_extension": ".py",
   "mimetype": "text/x-python",
   "name": "python",
   "nbconvert_exporter": "python",
   "pygments_lexer": "ipython3",
   "version": "3.7.6"
  }
 },
 "nbformat": 4,
 "nbformat_minor": 4
}
