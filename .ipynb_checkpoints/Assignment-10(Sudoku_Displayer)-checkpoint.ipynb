{
 "cells": [
  {
   "cell_type": "code",
   "execution_count": 31,
   "metadata": {},
   "outputs": [
    {
     "name": "stdout",
     "output_type": "stream",
     "text": [
      "- - - - - - - - - - - - - - - - \n",
      "0  0  0  |  0  6  4  |  0  0  0\n",
      "7  0  0  |  0  0  0  |  3  9  0\n",
      "8  0  0  |  0  0  0  |  0  0  0\n",
      "- - - - - - - - - - - - - - - - \n",
      "0  0  0  |  5  0  2  |  0  6  0\n",
      "0  8  0  |  4  0  0  |  0  0  0\n",
      "3  5  0  |  6  0  0  |  0  7  0\n",
      "- - - - - - - - - - - - - - - - \n",
      "0  0  2  |  0  0  0  |  1  0  3\n",
      "0  0  1  |  0  5  9  |  0  0  0\n",
      "0  0  0  |  0  0  0  |  7  0  0\n"
     ]
    }
   ],
   "source": [
    "sudoku = [\n",
    "    [0, 0, 0, 0, 6, 4, 0, 0, 0],\n",
    "    [7, 0, 0, 0, 0, 0, 3, 9, 0],\n",
    "    [8, 0, 0, 0, 0, 0, 0, 0, 0],\n",
    "    [0, 0, 0, 5, 0, 2, 0, 6, 0],\n",
    "    [0, 8, 0, 4, 0, 0, 0, 0, 0],\n",
    "    [3, 5, 0, 6, 0, 0, 0, 7, 0],\n",
    "    [0, 0, 2, 0, 0, 0, 1, 0, 3],\n",
    "    [0, 0, 1, 0, 5, 9, 0, 0, 0],\n",
    "    [0, 0, 0, 0, 0, 0, 7, 0, 0]\n",
    "]\n",
    "count = 0\n",
    "for i in sudoku :\n",
    "    if count == 0 or count == 3 or count == 6 or count == 9 or count == 12 :\n",
    "        print(\"- \" * 16)\n",
    "        print(*i[0:3], \"|\", *i[3:6], \"|\", *i[6:], sep = \"  \")\n",
    "    else :\n",
    "        print(*i[0:3], \"|\", *i[3:6], \"|\", *i[6:], sep = \"  \")\n",
    "    count += 1"
   ]
  },
  {
   "cell_type": "code",
   "execution_count": null,
   "metadata": {},
   "outputs": [],
   "source": []
  }
 ],
 "metadata": {
  "kernelspec": {
   "display_name": "Python 3",
   "language": "python",
   "name": "python3"
  },
  "language_info": {
   "codemirror_mode": {
    "name": "ipython",
    "version": 3
   },
   "file_extension": ".py",
   "mimetype": "text/x-python",
   "name": "python",
   "nbconvert_exporter": "python",
   "pygments_lexer": "ipython3",
   "version": "3.7.6"
  }
 },
 "nbformat": 4,
 "nbformat_minor": 4
}
