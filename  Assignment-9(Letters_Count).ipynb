{
 "cells": [
  {
   "cell_type": "code",
   "execution_count": 31,
   "metadata": {},
   "outputs": [
    {
     "name": "stdout",
     "output_type": "stream",
     "text": [
      "hippo runs to us!\n",
      "{'s': 2, ' ': 3, 'o': 2, 'p': 2, 'h': 1, 'r': 1, 'u': 2, '!': 1, 't': 1, 'n': 1, 'i': 1}\n"
     ]
    }
   ],
   "source": [
    "word = input()\n",
    "word_set = set(word)  \n",
    "word_list = list(word_set)\n",
    "collection = {x : word.count(x) for x in word_list}\n",
    "print(collection)"
   ]
  },
  {
   "cell_type": "code",
   "execution_count": null,
   "metadata": {},
   "outputs": [],
   "source": []
  }
 ],
 "metadata": {
  "kernelspec": {
   "display_name": "Python 3",
   "language": "python",
   "name": "python3"
  },
  "language_info": {
   "codemirror_mode": {
    "name": "ipython",
    "version": 3
   },
   "file_extension": ".py",
   "mimetype": "text/x-python",
   "name": "python",
   "nbconvert_exporter": "python",
   "pygments_lexer": "ipython3",
   "version": "3.7.6"
  }
 },
 "nbformat": 4,
 "nbformat_minor": 4
}
