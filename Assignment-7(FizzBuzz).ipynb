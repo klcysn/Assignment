{
 "cells": [
  {
   "cell_type": "code",
   "execution_count": 7,
   "metadata": {},
   "outputs": [
    {
     "name": "stdout",
     "output_type": "stream",
     "text": [
      "Please write a positive integer number : 22\n",
      "22\n"
     ]
    }
   ],
   "source": [
    "number = input(\"Please write a positive integer number : \")\n",
    "while not number.isdigit() or int(number) <= 0 :\n",
    "    number = input(f\"You entered '{number}' please enter a positive integer number : \")\n",
    "number = int(number)\n",
    "if (number % 3 == 0 and number % 5 == 0) :\n",
    "    print(\"FizzBuzz\")\n",
    "elif number % 3 == 0 : print(\"Fizz\")\n",
    "elif number % 5 == 0 : print(\"Buzz\")\n",
    "else : print(number)"
   ]
  },
  {
   "cell_type": "code",
   "execution_count": null,
   "metadata": {},
   "outputs": [],
   "source": []
  }
 ],
 "metadata": {
  "kernelspec": {
   "display_name": "Python 3",
   "language": "python",
   "name": "python3"
  },
  "language_info": {
   "codemirror_mode": {
    "name": "ipython",
    "version": 3
   },
   "file_extension": ".py",
   "mimetype": "text/x-python",
   "name": "python",
   "nbconvert_exporter": "python",
   "pygments_lexer": "ipython3",
   "version": "3.7.6"
  }
 },
 "nbformat": 4,
 "nbformat_minor": 4
}
